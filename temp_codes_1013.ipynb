{
 "cells": [
  {
   "cell_type": "code",
   "execution_count": 9,
   "metadata": {},
   "outputs": [],
   "source": [
    "import redis\n",
    "r = redis.StrictRedis(host='127.0.0.1', port=6380, db=0)\n"
   ]
  },
  {
   "cell_type": "code",
   "execution_count": 10,
   "metadata": {},
   "outputs": [
    {
     "ename": "ConnectionError",
     "evalue": "Error 10061 connecting to 127.0.0.1:6380. 由于目标计算机积极拒绝，无法连接。.",
     "output_type": "error",
     "traceback": [
      "\u001b[1;31m---------------------------------------------------------------------------\u001b[0m",
      "\u001b[1;31mConnectionRefusedError\u001b[0m                    Traceback (most recent call last)",
      "File \u001b[1;32mc:\\Users\\wy\\Anaconda3\\envs\\py39\\lib\\site-packages\\redis\\connection.py:264\u001b[0m, in \u001b[0;36mAbstractConnection.connect\u001b[1;34m(self)\u001b[0m\n\u001b[0;32m    263\u001b[0m \u001b[39mtry\u001b[39;00m:\n\u001b[1;32m--> 264\u001b[0m     sock \u001b[39m=\u001b[39m \u001b[39mself\u001b[39;49m\u001b[39m.\u001b[39;49mretry\u001b[39m.\u001b[39;49mcall_with_retry(\n\u001b[0;32m    265\u001b[0m         \u001b[39mlambda\u001b[39;49;00m: \u001b[39mself\u001b[39;49m\u001b[39m.\u001b[39;49m_connect(), \u001b[39mlambda\u001b[39;49;00m error: \u001b[39mself\u001b[39;49m\u001b[39m.\u001b[39;49mdisconnect(error)\n\u001b[0;32m    266\u001b[0m     )\n\u001b[0;32m    267\u001b[0m \u001b[39mexcept\u001b[39;00m socket\u001b[39m.\u001b[39mtimeout:\n",
      "File \u001b[1;32mc:\\Users\\wy\\Anaconda3\\envs\\py39\\lib\\site-packages\\redis\\retry.py:46\u001b[0m, in \u001b[0;36mRetry.call_with_retry\u001b[1;34m(self, do, fail)\u001b[0m\n\u001b[0;32m     45\u001b[0m \u001b[39mtry\u001b[39;00m:\n\u001b[1;32m---> 46\u001b[0m     \u001b[39mreturn\u001b[39;00m do()\n\u001b[0;32m     47\u001b[0m \u001b[39mexcept\u001b[39;00m \u001b[39mself\u001b[39m\u001b[39m.\u001b[39m_supported_errors \u001b[39mas\u001b[39;00m error:\n",
      "File \u001b[1;32mc:\\Users\\wy\\Anaconda3\\envs\\py39\\lib\\site-packages\\redis\\connection.py:265\u001b[0m, in \u001b[0;36mAbstractConnection.connect.<locals>.<lambda>\u001b[1;34m()\u001b[0m\n\u001b[0;32m    263\u001b[0m \u001b[39mtry\u001b[39;00m:\n\u001b[0;32m    264\u001b[0m     sock \u001b[39m=\u001b[39m \u001b[39mself\u001b[39m\u001b[39m.\u001b[39mretry\u001b[39m.\u001b[39mcall_with_retry(\n\u001b[1;32m--> 265\u001b[0m         \u001b[39mlambda\u001b[39;00m: \u001b[39mself\u001b[39;49m\u001b[39m.\u001b[39;49m_connect(), \u001b[39mlambda\u001b[39;00m error: \u001b[39mself\u001b[39m\u001b[39m.\u001b[39mdisconnect(error)\n\u001b[0;32m    266\u001b[0m     )\n\u001b[0;32m    267\u001b[0m \u001b[39mexcept\u001b[39;00m socket\u001b[39m.\u001b[39mtimeout:\n",
      "File \u001b[1;32mc:\\Users\\wy\\Anaconda3\\envs\\py39\\lib\\site-packages\\redis\\connection.py:627\u001b[0m, in \u001b[0;36mConnection._connect\u001b[1;34m(self)\u001b[0m\n\u001b[0;32m    626\u001b[0m \u001b[39mif\u001b[39;00m err \u001b[39mis\u001b[39;00m \u001b[39mnot\u001b[39;00m \u001b[39mNone\u001b[39;00m:\n\u001b[1;32m--> 627\u001b[0m     \u001b[39mraise\u001b[39;00m err\n\u001b[0;32m    628\u001b[0m \u001b[39mraise\u001b[39;00m \u001b[39mOSError\u001b[39;00m(\u001b[39m\"\u001b[39m\u001b[39msocket.getaddrinfo returned an empty list\u001b[39m\u001b[39m\"\u001b[39m)\n",
      "File \u001b[1;32mc:\\Users\\wy\\Anaconda3\\envs\\py39\\lib\\site-packages\\redis\\connection.py:615\u001b[0m, in \u001b[0;36mConnection._connect\u001b[1;34m(self)\u001b[0m\n\u001b[0;32m    614\u001b[0m \u001b[39m# connect\u001b[39;00m\n\u001b[1;32m--> 615\u001b[0m sock\u001b[39m.\u001b[39;49mconnect(socket_address)\n\u001b[0;32m    617\u001b[0m \u001b[39m# set the socket_timeout now that we're connected\u001b[39;00m\n",
      "\u001b[1;31mConnectionRefusedError\u001b[0m: [WinError 10061] 由于目标计算机积极拒绝，无法连接。",
      "\nDuring handling of the above exception, another exception occurred:\n",
      "\u001b[1;31mConnectionError\u001b[0m                           Traceback (most recent call last)",
      "\u001b[1;32mc:\\Users\\wy\\project\\warps\\temp_codes_1013.ipynb Cell 2\u001b[0m line \u001b[0;36m1\n\u001b[1;32m----> <a href='vscode-notebook-cell:/c%3A/Users/wy/project/warps/temp_codes_1013.ipynb#W1sZmlsZQ%3D%3D?line=0'>1</a>\u001b[0m r\u001b[39m.\u001b[39;49mset(\u001b[39m\"\u001b[39;49m\u001b[39mmykey\u001b[39;49m\u001b[39m\"\u001b[39;49m,\u001b[39m\"\u001b[39;49m\u001b[39mc\u001b[39;49m\u001b[39m\"\u001b[39;49m)\n",
      "File \u001b[1;32mc:\\Users\\wy\\Anaconda3\\envs\\py39\\lib\\site-packages\\redis\\commands\\core.py:2341\u001b[0m, in \u001b[0;36mBasicKeyCommands.set\u001b[1;34m(self, name, value, ex, px, nx, xx, keepttl, get, exat, pxat)\u001b[0m\n\u001b[0;32m   2338\u001b[0m     pieces\u001b[39m.\u001b[39mappend(\u001b[39m\"\u001b[39m\u001b[39mGET\u001b[39m\u001b[39m\"\u001b[39m)\n\u001b[0;32m   2339\u001b[0m     options[\u001b[39m\"\u001b[39m\u001b[39mget\u001b[39m\u001b[39m\"\u001b[39m] \u001b[39m=\u001b[39m \u001b[39mTrue\u001b[39;00m\n\u001b[1;32m-> 2341\u001b[0m \u001b[39mreturn\u001b[39;00m \u001b[39mself\u001b[39m\u001b[39m.\u001b[39mexecute_command(\u001b[39m\"\u001b[39m\u001b[39mSET\u001b[39m\u001b[39m\"\u001b[39m, \u001b[39m*\u001b[39mpieces, \u001b[39m*\u001b[39m\u001b[39m*\u001b[39moptions)\n",
      "File \u001b[1;32mc:\\Users\\wy\\Anaconda3\\envs\\py39\\lib\\site-packages\\redis\\client.py:533\u001b[0m, in \u001b[0;36mRedis.execute_command\u001b[1;34m(self, *args, **options)\u001b[0m\n\u001b[0;32m    531\u001b[0m pool \u001b[39m=\u001b[39m \u001b[39mself\u001b[39m\u001b[39m.\u001b[39mconnection_pool\n\u001b[0;32m    532\u001b[0m command_name \u001b[39m=\u001b[39m args[\u001b[39m0\u001b[39m]\n\u001b[1;32m--> 533\u001b[0m conn \u001b[39m=\u001b[39m \u001b[39mself\u001b[39m\u001b[39m.\u001b[39mconnection \u001b[39mor\u001b[39;00m pool\u001b[39m.\u001b[39mget_connection(command_name, \u001b[39m*\u001b[39m\u001b[39m*\u001b[39moptions)\n\u001b[0;32m    535\u001b[0m \u001b[39mtry\u001b[39;00m:\n\u001b[0;32m    536\u001b[0m     \u001b[39mreturn\u001b[39;00m conn\u001b[39m.\u001b[39mretry\u001b[39m.\u001b[39mcall_with_retry(\n\u001b[0;32m    537\u001b[0m         \u001b[39mlambda\u001b[39;00m: \u001b[39mself\u001b[39m\u001b[39m.\u001b[39m_send_command_parse_response(\n\u001b[0;32m    538\u001b[0m             conn, command_name, \u001b[39m*\u001b[39margs, \u001b[39m*\u001b[39m\u001b[39m*\u001b[39moptions\n\u001b[0;32m    539\u001b[0m         ),\n\u001b[0;32m    540\u001b[0m         \u001b[39mlambda\u001b[39;00m error: \u001b[39mself\u001b[39m\u001b[39m.\u001b[39m_disconnect_raise(conn, error),\n\u001b[0;32m    541\u001b[0m     )\n",
      "File \u001b[1;32mc:\\Users\\wy\\Anaconda3\\envs\\py39\\lib\\site-packages\\redis\\connection.py:1086\u001b[0m, in \u001b[0;36mConnectionPool.get_connection\u001b[1;34m(self, command_name, *keys, **options)\u001b[0m\n\u001b[0;32m   1082\u001b[0m     \u001b[39mself\u001b[39m\u001b[39m.\u001b[39m_in_use_connections\u001b[39m.\u001b[39madd(connection)\n\u001b[0;32m   1084\u001b[0m \u001b[39mtry\u001b[39;00m:\n\u001b[0;32m   1085\u001b[0m     \u001b[39m# ensure this connection is connected to Redis\u001b[39;00m\n\u001b[1;32m-> 1086\u001b[0m     connection\u001b[39m.\u001b[39;49mconnect()\n\u001b[0;32m   1087\u001b[0m     \u001b[39m# connections that the pool provides should be ready to send\u001b[39;00m\n\u001b[0;32m   1088\u001b[0m     \u001b[39m# a command. if not, the connection was either returned to the\u001b[39;00m\n\u001b[0;32m   1089\u001b[0m     \u001b[39m# pool before all data has been read or the socket has been\u001b[39;00m\n\u001b[0;32m   1090\u001b[0m     \u001b[39m# closed. either way, reconnect and verify everything is good.\u001b[39;00m\n\u001b[0;32m   1091\u001b[0m     \u001b[39mtry\u001b[39;00m:\n",
      "File \u001b[1;32mc:\\Users\\wy\\Anaconda3\\envs\\py39\\lib\\site-packages\\redis\\connection.py:270\u001b[0m, in \u001b[0;36mAbstractConnection.connect\u001b[1;34m(self)\u001b[0m\n\u001b[0;32m    268\u001b[0m     \u001b[39mraise\u001b[39;00m \u001b[39mTimeoutError\u001b[39;00m(\u001b[39m\"\u001b[39m\u001b[39mTimeout connecting to server\u001b[39m\u001b[39m\"\u001b[39m)\n\u001b[0;32m    269\u001b[0m \u001b[39mexcept\u001b[39;00m \u001b[39mOSError\u001b[39;00m \u001b[39mas\u001b[39;00m e:\n\u001b[1;32m--> 270\u001b[0m     \u001b[39mraise\u001b[39;00m \u001b[39mConnectionError\u001b[39;00m(\u001b[39mself\u001b[39m\u001b[39m.\u001b[39m_error_message(e))\n\u001b[0;32m    272\u001b[0m \u001b[39mself\u001b[39m\u001b[39m.\u001b[39m_sock \u001b[39m=\u001b[39m sock\n\u001b[0;32m    273\u001b[0m \u001b[39mtry\u001b[39;00m:\n",
      "\u001b[1;31mConnectionError\u001b[0m: Error 10061 connecting to 127.0.0.1:6380. 由于目标计算机积极拒绝，无法连接。."
     ]
    }
   ],
   "source": [
    "r.set(\"mykey\",\"c\")"
   ]
  }
 ],
 "metadata": {
  "kernelspec": {
   "display_name": "py39",
   "language": "python",
   "name": "python3"
  },
  "language_info": {
   "codemirror_mode": {
    "name": "ipython",
    "version": 3
   },
   "file_extension": ".py",
   "mimetype": "text/x-python",
   "name": "python",
   "nbconvert_exporter": "python",
   "pygments_lexer": "ipython3",
   "version": "3.9.17"
  }
 },
 "nbformat": 4,
 "nbformat_minor": 2
}
